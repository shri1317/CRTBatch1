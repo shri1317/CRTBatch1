{
 "cells": [
  {
   "cell_type": "code",
   "execution_count": 12,
   "metadata": {},
   "outputs": [
    {
     "data": {
      "text/plain": [
       "20"
      ]
     },
     "execution_count": 12,
     "metadata": {},
     "output_type": "execute_result"
    }
   ],
   "source": [
    "# read a number\n",
    "# print the even digit sum from the number\n",
    "\n",
    "# input : 1234\n",
    "# output : 6=2+4\n",
    "\n",
    "def evendigitsum(n):\n",
    "    s=0\n",
    "    while n!=0:\n",
    "        r=n%10\n",
    "        if r%2==0:\n",
    "            s=s+r\n",
    "        n=n//10\n",
    "    return s\n",
    "evendigitsum(12345678)"
   ]
  },
  {
   "cell_type": "code",
   "execution_count": 15,
   "metadata": {},
   "outputs": [
    {
     "name": "stdout",
     "output_type": "stream",
     "text": [
      "16\n"
     ]
    }
   ],
   "source": [
    "def square(x):\n",
    "    print(x*x)\n",
    "square(4)"
   ]
  },
  {
   "cell_type": "code",
   "execution_count": 16,
   "metadata": {},
   "outputs": [
    {
     "name": "stdout",
     "output_type": "stream",
     "text": [
      "64\n"
     ]
    }
   ],
   "source": [
    "def cube(x):\n",
    "    print(x*x*x)\n",
    "cube(4)    \n",
    "    "
   ]
  },
  {
   "cell_type": "code",
   "execution_count": 23,
   "metadata": {},
   "outputs": [
    {
     "name": "stdout",
     "output_type": "stream",
     "text": [
      "value of x= 4\n",
      "value of y= 2\n",
      "8\n"
     ]
    }
   ],
   "source": [
    "def multiply(x,y=0):\n",
    "    print(\"value of x=\",x)\n",
    "    print(\"value of y=\",y)\n",
    "    return(x*y)\n",
    "print(multiply(x=4,y=2))"
   ]
  },
  {
   "cell_type": "code",
   "execution_count": 28,
   "metadata": {},
   "outputs": [
    {
     "data": {
      "text/plain": [
       "(3, 2)"
      ]
     },
     "execution_count": 28,
     "metadata": {},
     "output_type": "execute_result"
    }
   ],
   "source": [
    "# swap values\n",
    "def swap(x,y):\n",
    "    temp=x\n",
    "    x=y\n",
    "    y=temp\n",
    "    return(x,y)\n",
    "swap(2,3)"
   ]
  },
  {
   "cell_type": "code",
   "execution_count": 2,
   "metadata": {},
   "outputs": [
    {
     "data": {
      "text/plain": [
       "9"
      ]
     },
     "execution_count": 2,
     "metadata": {},
     "output_type": "execute_result"
    }
   ],
   "source": [
    "#input:19535\n",
    "#output:9(large digit of the given no)\n",
    "def largeDigit(n):\n",
    "    large=0\n",
    "    while n!=0:\n",
    "        r=n%10\n",
    "        if large<r:\n",
    "            large=r\n",
    "        n=n//10\n",
    "        return large\n",
    "largeDigit(123456789)\n",
    "            "
   ]
  },
  {
   "cell_type": "code",
   "execution_count": 4,
   "metadata": {},
   "outputs": [
    {
     "name": "stdout",
     "output_type": "stream",
     "text": [
      "1 2 3 4 5 6 7 8 9 "
     ]
    }
   ],
   "source": [
    "# for loop\n",
    "# fxn to print the numbers btw 2 limits\n",
    "def printseries(lb,ub):\n",
    "    for x in range(lb,ub):\n",
    "        print(x,end = ' ')\n",
    "    return\n",
    "printseries(1,10)"
   ]
  },
  {
   "cell_type": "code",
   "execution_count": 11,
   "metadata": {},
   "outputs": [
    {
     "name": "stdout",
     "output_type": "stream",
     "text": [
      "[1, 2, 3, 4, 5, 6, 7, 8, 9]\n",
      "1\n",
      "3\n",
      "6\n",
      "[2, 3, 4]\n",
      "[6, 7, 8]\n"
     ]
    }
   ],
   "source": [
    "a=[1,2,3,4,5,6,7,8,9]\n",
    "print(a)\n",
    "print(a[0])\n",
    "print(a[2])\n",
    "print(a[-4])\n",
    "print(a[1:4])\n",
    "print(a[-4:-1])"
   ]
  },
  {
   "cell_type": "code",
   "execution_count": 15,
   "metadata": {},
   "outputs": [
    {
     "name": "stdout",
     "output_type": "stream",
     "text": [
      "['gitam', 1234, 'hyd']\n",
      "['gitam', 6969, 'hyd']\n",
      "['gitam', 6969]\n"
     ]
    }
   ],
   "source": [
    "# update list\n",
    "a=['gitam',1234,'hyd']\n",
    "print(a)\n",
    "a[1]=6969\n",
    "print(a)\n",
    "del a[2]\n",
    "print(a)"
   ]
  }
 ],
 "metadata": {
  "kernelspec": {
   "display_name": "Python 3",
   "language": "python",
   "name": "python3"
  },
  "language_info": {
   "codemirror_mode": {
    "name": "ipython",
    "version": 3
   },
   "file_extension": ".py",
   "mimetype": "text/x-python",
   "name": "python",
   "nbconvert_exporter": "python",
   "pygments_lexer": "ipython3",
   "version": "3.7.3"
  }
 },
 "nbformat": 4,
 "nbformat_minor": 2
}
