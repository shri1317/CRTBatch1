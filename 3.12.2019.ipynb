{
 "cells": [
  {
   "cell_type": "code",
   "execution_count": 1,
   "metadata": {},
   "outputs": [
    {
     "ename": "NameError",
     "evalue": "name 'printf' is not defined",
     "output_type": "error",
     "traceback": [
      "\u001b[1;31m---------------------------------------------------------------------------\u001b[0m",
      "\u001b[1;31mNameError\u001b[0m                                 Traceback (most recent call last)",
      "\u001b[1;32m<ipython-input-1-5e6663c069bf>\u001b[0m in \u001b[0;36m<module>\u001b[1;34m\u001b[0m\n\u001b[1;32m----> 1\u001b[1;33m \u001b[0mprintf\u001b[0m\u001b[1;33m(\u001b[0m\u001b[1;34m\"Welcome to C programming\"\u001b[0m\u001b[1;33m)\u001b[0m\u001b[1;33m\u001b[0m\u001b[1;33m\u001b[0m\u001b[0m\n\u001b[0m\u001b[0;32m      2\u001b[0m \u001b[0mprintf\u001b[0m\u001b[1;33m(\u001b[0m\u001b[1;34m\"Welcome to jupytor notebook\"\u001b[0m\u001b[1;33m)\u001b[0m\u001b[1;33m\u001b[0m\u001b[1;33m\u001b[0m\u001b[0m\n",
      "\u001b[1;31mNameError\u001b[0m: name 'printf' is not defined"
     ]
    }
   ],
   "source": [
    "printf(\"Welcome to C programming\")\n",
    "printf(\"Welcome to jupytor notebook\")"
   ]
  },
  {
   "cell_type": "code",
   "execution_count": 2,
   "metadata": {},
   "outputs": [
    {
     "name": "stdout",
     "output_type": "stream",
     "text": [
      "100\n"
     ]
    }
   ],
   "source": [
    "x=100\n",
    "print(x)"
   ]
  },
  {
   "cell_type": "code",
   "execution_count": 3,
   "metadata": {},
   "outputs": [
    {
     "name": "stdout",
     "output_type": "stream",
     "text": [
      "Welcome to C programming\n",
      "Welcome to jupytor notebook\n"
     ]
    }
   ],
   "source": [
    "print(\"Welcome to C programming\")\n",
    "print(\"Welcome to jupytor notebook\")"
   ]
  },
  {
   "cell_type": "markdown",
   "metadata": {},
   "source": [
    "# markdown\n",
    "## markdown\n",
    "### markdown\n",
    "#### markdown\n",
    "##### markdown\n",
    "\n"
   ]
  },
  {
   "cell_type": "markdown",
   "metadata": {},
   "source": [
    "### insert a image \n",
    "![text](https://encrypted-tbn0.gstatic.com/images?q=tbn%3AANd9GcQgzxmqc19D5EVvsLdy69Xjpp_0OqG8LMQ6V2eA93x4g1leqQsI)"
   ]
  },
  {
   "cell_type": "code",
   "execution_count": 4,
   "metadata": {},
   "outputs": [
    {
     "ename": "SyntaxError",
     "evalue": "invalid syntax (<ipython-input-4-9405772c2bcb>, line 2)",
     "output_type": "error",
     "traceback": [
      "\u001b[1;36m  File \u001b[1;32m\"<ipython-input-4-9405772c2bcb>\"\u001b[1;36m, line \u001b[1;32m2\u001b[0m\n\u001b[1;33m    [site](https://www.google.com/search?q=tumblr+wallpaper&tbm=isch&ved=2ahUKEwjD_6eez5jmAhVBg48KHXcrDAsQ2-cCegQIABAA&oq=tumblr+wallpaper&gs_l=img.3..0l10.16601.18355..18711...0.0..0.120.607.6j1......0....1..gws-wiz-img.......0i67j0i10j0i7i30.7OLmBqb14kM&ei=euHlXcPaKMGGvgT31rBY#imgrc=Rto2TdVF6nROpM)\u001b[0m\n\u001b[1;37m                ^\u001b[0m\n\u001b[1;31mSyntaxError\u001b[0m\u001b[1;31m:\u001b[0m invalid syntax\n"
     ]
    }
   ],
   "source": [
    "### insert a site\n",
    "[site](https://www.google.com/search?q=tumblr+wallpaper&tbm=isch&ved=2ahUKEwjD_6eez5jmAhVBg48KHXcrDAsQ2-cCegQIABAA&oq=tumblr+wallpaper&gs_l=img.3..0l10.16601.18355..18711...0.0..0.120.607.6j1......0....1..gws-wiz-img.......0i67j0i10j0i7i30.7OLmBqb14kM&ei=euHlXcPaKMGGvgT31rBY#imgrc=Rto2TdVF6nROpM)"
   ]
  },
  {
   "cell_type": "code",
   "execution_count": 5,
   "metadata": {},
   "outputs": [
    {
     "ename": "SyntaxError",
     "evalue": "invalid syntax (<ipython-input-5-e16dde109b97>, line 1)",
     "output_type": "error",
     "traceback": [
      "\u001b[1;36m  File \u001b[1;32m\"<ipython-input-5-e16dde109b97>\"\u001b[1;36m, line \u001b[1;32m1\u001b[0m\n\u001b[1;33m    [site](https://github.com/)\u001b[0m\n\u001b[1;37m                ^\u001b[0m\n\u001b[1;31mSyntaxError\u001b[0m\u001b[1;31m:\u001b[0m invalid syntax\n"
     ]
    }
   ],
   "source": [
    "[site](https://github.com/)"
   ]
  },
  {
   "cell_type": "markdown",
   "metadata": {},
   "source": [
    "[site](https://github.com/)"
   ]
  },
  {
   "cell_type": "markdown",
   "metadata": {},
   "source": [
    "### for creating ordered list\n",
    "1. abc\n",
    "2. efg\n",
    "  1. a\n",
    "  2. b\n",
    "3. hij"
   ]
  },
  {
   "cell_type": "markdown",
   "metadata": {},
   "source": [
    "### symbols of unordered list\n",
    "- abc\n",
    "- efg\n",
    "  - a\n",
    "  - b\n",
    "- hij\n",
    "  - c\n",
    "  - d\n"
   ]
  },
  {
   "cell_type": "code",
   "execution_count": 6,
   "metadata": {},
   "outputs": [
    {
     "data": {
      "text/plain": [
       "20"
      ]
     },
     "execution_count": 6,
     "metadata": {},
     "output_type": "execute_result"
    }
   ],
   "source": [
    "# variable creation\n",
    "a = 10\n",
    "b = 10\n",
    "a+b\n"
   ]
  },
  {
   "cell_type": "code",
   "execution_count": 7,
   "metadata": {},
   "outputs": [
    {
     "name": "stdout",
     "output_type": "stream",
     "text": [
      "universityGitam\n"
     ]
    }
   ],
   "source": [
    "name = \"Gitam\"\n",
    "print(\"university\"+ name)"
   ]
  },
  {
   "cell_type": "code",
   "execution_count": null,
   "metadata": {},
   "outputs": [],
   "source": [
    "name = input(\"enter a name\")\n",
    "age = int(input(\"enter age\"))"
   ]
  },
  {
   "cell_type": "code",
   "execution_count": 2,
   "metadata": {},
   "outputs": [
    {
     "name": "stdout",
     "output_type": "stream",
     "text": [
      "<class 'int'> <class 'float'> <class 'complex'>\n"
     ]
    }
   ],
   "source": [
    "a = 10\n",
    "b = 12.05\n",
    "c = 5+5j\n",
    "print(type(a),type(b),type(c))"
   ]
  },
  {
   "cell_type": "code",
   "execution_count": 3,
   "metadata": {},
   "outputs": [
    {
     "name": "stdout",
     "output_type": "stream",
     "text": [
      "(3+4j)\n"
     ]
    }
   ],
   "source": [
    "c = complex(3,4)\n",
    "print(c)"
   ]
  },
  {
   "cell_type": "code",
   "execution_count": 4,
   "metadata": {},
   "outputs": [
    {
     "name": "stdout",
     "output_type": "stream",
     "text": [
      "(4+6j)\n",
      "(2+2j)\n",
      "(-5+10j)\n"
     ]
    }
   ],
   "source": [
    "c1 = 3+4j\n",
    "c2 = 1+2j\n",
    "print(c1+c2)\n",
    "print(c1-c2)\n",
    "print(c1*c2)"
   ]
  },
  {
   "cell_type": "markdown",
   "metadata": {},
   "source": [
    "## boolean\n",
    "a = 10\n",
    "b = 20\n",
    "a>b"
   ]
  },
  {
   "cell_type": "code",
   "execution_count": 5,
   "metadata": {},
   "outputs": [
    {
     "name": "stdout",
     "output_type": "stream",
     "text": [
      "<class 'str'> <class 'str'>\n"
     ]
    }
   ],
   "source": [
    "s1 ='abc'\n",
    "s2 ='xyz'\n",
    "print(type(s1),type(s2))"
   ]
  },
  {
   "cell_type": "code",
   "execution_count": 8,
   "metadata": {},
   "outputs": [
    {
     "name": "stdout",
     "output_type": "stream",
     "text": [
      "<class 'str'>\n",
      "<class 'int'>\n",
      "<class 'int'>\n",
      "1\n"
     ]
    }
   ],
   "source": [
    "s1 = \"100\"\n",
    "print(type(s1))\n",
    "a = int(s1)\n",
    "print(type(a))\n",
    "f = 1.5\n",
    "a1 =int(f)\n",
    "print(type(a1))\n",
    "print(a1)"
   ]
  },
  {
   "cell_type": "code",
   "execution_count": 7,
   "metadata": {},
   "outputs": [
    {
     "name": "stdout",
     "output_type": "stream",
     "text": [
      "<class 'str'>\n",
      "<class 'str'>\n"
     ]
    },
    {
     "ename": "TypeError",
     "evalue": "can't convert complex to int",
     "output_type": "error",
     "traceback": [
      "\u001b[1;31m---------------------------------------------------------------------------\u001b[0m",
      "\u001b[1;31mTypeError\u001b[0m                                 Traceback (most recent call last)",
      "\u001b[1;32m<ipython-input-7-57636080e03b>\u001b[0m in \u001b[0;36m<module>\u001b[1;34m\u001b[0m\n\u001b[0;32m      4\u001b[0m \u001b[0mprint\u001b[0m\u001b[1;33m(\u001b[0m\u001b[0mtype\u001b[0m\u001b[1;33m(\u001b[0m\u001b[0ms1\u001b[0m\u001b[1;33m)\u001b[0m\u001b[1;33m)\u001b[0m\u001b[1;33m\u001b[0m\u001b[1;33m\u001b[0m\u001b[0m\n\u001b[0;32m      5\u001b[0m \u001b[0mf\u001b[0m \u001b[1;33m=\u001b[0m \u001b[1;36m3\u001b[0m\u001b[1;33m+\u001b[0m\u001b[1;36m4j\u001b[0m\u001b[1;33m\u001b[0m\u001b[1;33m\u001b[0m\u001b[0m\n\u001b[1;32m----> 6\u001b[1;33m \u001b[0ma1\u001b[0m \u001b[1;33m=\u001b[0m\u001b[0mint\u001b[0m\u001b[1;33m(\u001b[0m\u001b[0mf\u001b[0m\u001b[1;33m)\u001b[0m\u001b[1;33m\u001b[0m\u001b[1;33m\u001b[0m\u001b[0m\n\u001b[0m\u001b[0;32m      7\u001b[0m \u001b[0mprint\u001b[0m\u001b[1;33m(\u001b[0m\u001b[0mtype\u001b[0m\u001b[1;33m(\u001b[0m\u001b[0ma1\u001b[0m\u001b[1;33m)\u001b[0m\u001b[1;33m)\u001b[0m\u001b[1;33m\u001b[0m\u001b[1;33m\u001b[0m\u001b[0m\n\u001b[0;32m      8\u001b[0m \u001b[0mprint\u001b[0m\u001b[1;33m(\u001b[0m\u001b[0ma1\u001b[0m\u001b[1;33m)\u001b[0m\u001b[1;33m\u001b[0m\u001b[1;33m\u001b[0m\u001b[0m\n",
      "\u001b[1;31mTypeError\u001b[0m: can't convert complex to int"
     ]
    }
   ],
   "source": [
    "s1 = \"100\"\n",
    "print(type(s1))\n",
    "a = int(s1)\n",
    "print(type(a))\n",
    "f = 3+4j\n",
    "a1 =int(f)\n",
    "print(type(a1))\n",
    "print(a1)"
   ]
  },
  {
   "cell_type": "code",
   "execution_count": 10,
   "metadata": {},
   "outputs": [
    {
     "name": "stdout",
     "output_type": "stream",
     "text": [
      "4\n"
     ]
    }
   ],
   "source": [
    "a1 = 1234\n",
    "print(len(str(a1)))"
   ]
  },
  {
   "cell_type": "code",
   "execution_count": null,
   "metadata": {},
   "outputs": [],
   "source": [
    "### operations\n",
    "1. arthematic operators --->+,-,*,%,//,**\n",
    "2. logical operators --->and,or,not\n",
    "3. relational operators ---><,>.>=,<=,==\n",
    "4. "
   ]
  },
  {
   "cell_type": "code",
   "execution_count": 11,
   "metadata": {},
   "outputs": [
    {
     "name": "stdout",
     "output_type": "stream",
     "text": [
      "33\n",
      "-9\n",
      "252\n",
      "0\n",
      "46005119909369701466112\n"
     ]
    }
   ],
   "source": [
    "n1=12\n",
    "n2=21\n",
    "print(n1+n2)\n",
    "print(n1-n2)\n",
    "print(n1*n2)\n",
    "print(n1//n2)\n",
    "print(n1**n2)"
   ]
  },
  {
   "cell_type": "code",
   "execution_count": 12,
   "metadata": {},
   "outputs": [
    {
     "name": "stdout",
     "output_type": "stream",
     "text": [
      "False\n",
      "True\n",
      "True\n",
      "False\n"
     ]
    }
   ],
   "source": [
    "# relational operators\n",
    "print(n1 == n2)\n",
    "print(n1 != n2)\n",
    "print(n1<n2)\n",
    "print(n1>n2)"
   ]
  },
  {
   "cell_type": "code",
   "execution_count": 13,
   "metadata": {},
   "outputs": [
    {
     "name": "stdout",
     "output_type": "stream",
     "text": [
      "True\n",
      "True\n",
      "False\n"
     ]
    }
   ],
   "source": [
    "# logical operators\n",
    "print(n1>=10 and n1<=20)\n",
    "print(n1>=10 or n1<= 20)\n",
    "print(not n1)"
   ]
  },
  {
   "cell_type": "code",
   "execution_count": 14,
   "metadata": {},
   "outputs": [
    {
     "name": "stdout",
     "output_type": "stream",
     "text": [
      "False\n"
     ]
    }
   ],
   "source": [
    "# relational operations\n",
    "a=10\n",
    "b=20\n",
    "print(a>b)"
   ]
  },
  {
   "cell_type": "code",
   "execution_count": 15,
   "metadata": {},
   "outputs": [
    {
     "name": "stdout",
     "output_type": "stream",
     "text": [
      "True\n"
     ]
    }
   ],
   "source": [
    "a=20\n",
    "b=30\n",
    "print(a<b)"
   ]
  },
  {
   "cell_type": "code",
   "execution_count": 16,
   "metadata": {},
   "outputs": [
    {
     "name": "stdout",
     "output_type": "stream",
     "text": [
      "False\n"
     ]
    }
   ],
   "source": [
    "a=10\n",
    "b=20\n",
    "print(a==b)"
   ]
  },
  {
   "cell_type": "code",
   "execution_count": 17,
   "metadata": {},
   "outputs": [
    {
     "name": "stdout",
     "output_type": "stream",
     "text": [
      "True\n",
      "True\n",
      "False\n"
     ]
    }
   ],
   "source": [
    "a=10\n",
    "b=20 \n",
    "print(a != b)\n",
    "print(a<=b)\n",
    "print(a>=b)"
   ]
  },
  {
   "cell_type": "markdown",
   "metadata": {},
   "source": [
    "# membership operators\n",
    "## intrue if value is in sequence\n"
   ]
  },
  {
   "cell_type": "code",
   "execution_count": 18,
   "metadata": {},
   "outputs": [
    {
     "name": "stdout",
     "output_type": "stream",
     "text": [
      "True\n",
      "False\n",
      "True\n"
     ]
    }
   ],
   "source": [
    "f=[1,2,3,4]\n",
    "print(1 in f)\n",
    "print(5 in f)\n",
    "print(6 not in f)"
   ]
  },
  {
   "cell_type": "code",
   "execution_count": null,
   "metadata": {},
   "outputs": [],
   "source": [
    "## conditional statements\n",
    "1. if\n",
    "2. else\n"
   ]
  },
  {
   "cell_type": "code",
   "execution_count": 22,
   "metadata": {},
   "outputs": [
    {
     "name": "stdout",
     "output_type": "stream",
     "text": [
      "enter a number20\n",
      "even\n"
     ]
    }
   ],
   "source": [
    "n=int(input(\"enter a number\"))\n",
    "if  n%2 == 0:\n",
    "     print(\"even\")\n",
    "else:\n",
    "     print(\"odd\")"
   ]
  },
  {
   "cell_type": "code",
   "execution_count": 25,
   "metadata": {},
   "outputs": [
    {
     "name": "stdout",
     "output_type": "stream",
     "text": [
      "enter a number15\n",
      "multiple of 3 and 5\n"
     ]
    }
   ],
   "source": [
    "n=int(input(\"enter a number\"))\n",
    "if n%3== 0 and n%5 ==0:\n",
    "   print(\"multiple of 3 and 5\")\n",
    "else:\n",
    "    print(\"not a mutliple of 3 and 5\")"
   ]
  },
  {
   "cell_type": "code",
   "execution_count": 31,
   "metadata": {},
   "outputs": [
    {
     "name": "stdout",
     "output_type": "stream",
     "text": [
      "enter a number10\n",
      "positive\n"
     ]
    }
   ],
   "source": [
    "n=int(input(\"enter a number\"))\n",
    "if n>0:\n",
    "    print(\"positive\")\n",
    "elif n<0:\n",
    "    print(\"negative\")\n",
    "else:\n",
    "    print(\"equal to zero\")\n"
   ]
  },
  {
   "cell_type": "markdown",
   "metadata": {},
   "source": [
    "## Check the input is leap year or not"
   ]
  },
  {
   "cell_type": "code",
   "execution_count": 3,
   "metadata": {},
   "outputs": [
    {
     "name": "stdout",
     "output_type": "stream",
     "text": [
      "2100\n",
      "not a leap year\n"
     ]
    }
   ],
   "source": [
    "year = int(input())\n",
    "if year%400 ==0 or (year%4 ==0 and year%100 !=0):\n",
    "    print(\"leap year\")\n",
    "else:\n",
    "    print(\"not a leap year\")"
   ]
  },
  {
   "cell_type": "markdown",
   "metadata": {},
   "source": [
    "## Loops"
   ]
  },
  {
   "cell_type": "code",
   "execution_count": 5,
   "metadata": {},
   "outputs": [
    {
     "name": "stdout",
     "output_type": "stream",
     "text": [
      "enter a number10\n",
      "12345678910"
     ]
    }
   ],
   "source": [
    "#print no from 1 to n\n",
    "n = int(input(\"enter a number\"))\n",
    "i =1\n",
    "while i<= n:\n",
    "    print(i,end=\"\")\n",
    "    i=i+1"
   ]
  },
  {
   "cell_type": "markdown",
   "metadata": {},
   "source": [
    "# Read a no a input\n",
    "# Output should be sum of even no's from 1 to N"
   ]
  },
  {
   "cell_type": "code",
   "execution_count": 2,
   "metadata": {},
   "outputs": [
    {
     "name": "stdout",
     "output_type": "stream",
     "text": [
      "enter a number10\n",
      "30\n"
     ]
    }
   ],
   "source": [
    "n =int(input(\"enter a number\"))\n",
    "i = 1\n",
    "s = 0\n",
    "while i <= n:\n",
    "    if i % 2 ==0:\n",
    "        s = s + i\n",
    "    i = i + 1\n",
    "print(s)"
   ]
  },
  {
   "cell_type": "code",
   "execution_count": null,
   "metadata": {},
   "outputs": [],
   "source": []
  }
 ],
 "metadata": {
  "kernelspec": {
   "display_name": "Python 3",
   "language": "python",
   "name": "python3"
  }
 },
 "nbformat": 4,
 "nbformat_minor": 2
}
